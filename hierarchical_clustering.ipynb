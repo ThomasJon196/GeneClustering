{
 "cells": [
  {
   "cell_type": "code",
   "execution_count": 21,
   "metadata": {},
   "outputs": [
    {
     "data": {
      "text/html": [
       "<div>\n",
       "<style scoped>\n",
       "    .dataframe tbody tr th:only-of-type {\n",
       "        vertical-align: middle;\n",
       "    }\n",
       "\n",
       "    .dataframe tbody tr th {\n",
       "        vertical-align: top;\n",
       "    }\n",
       "\n",
       "    .dataframe thead th {\n",
       "        text-align: right;\n",
       "    }\n",
       "</style>\n",
       "<table border=\"1\" class=\"dataframe\">\n",
       "  <thead>\n",
       "    <tr style=\"text-align: right;\">\n",
       "      <th></th>\n",
       "      <th>Unnamed: 0</th>\n",
       "      <th>ID_REF</th>\n",
       "      <th>RELAPSE</th>\n",
       "      <th>SURV_RELAPSE</th>\n",
       "      <th>DEATH</th>\n",
       "      <th>DEATH_BC</th>\n",
       "      <th>SURV_DEATH</th>\n",
       "      <th>SUBTYPE</th>\n",
       "      <th>ELSTON</th>\n",
       "    </tr>\n",
       "  </thead>\n",
       "  <tbody>\n",
       "    <tr>\n",
       "      <th>0</th>\n",
       "      <td>0</td>\n",
       "      <td>X027JO</td>\n",
       "      <td>1.0</td>\n",
       "      <td>3.82</td>\n",
       "      <td>1.0</td>\n",
       "      <td>1.0</td>\n",
       "      <td>4.14</td>\n",
       "      <td>No Subtype</td>\n",
       "      <td>2.0</td>\n",
       "    </tr>\n",
       "    <tr>\n",
       "      <th>1</th>\n",
       "      <td>1</td>\n",
       "      <td>X350JO</td>\n",
       "      <td>0.0</td>\n",
       "      <td>8.15</td>\n",
       "      <td>0.0</td>\n",
       "      <td>0.0</td>\n",
       "      <td>8.15</td>\n",
       "      <td>Luminal B</td>\n",
       "      <td>3.0</td>\n",
       "    </tr>\n",
       "    <tr>\n",
       "      <th>2</th>\n",
       "      <td>2</td>\n",
       "      <td>X028JA</td>\n",
       "      <td>0.0</td>\n",
       "      <td>8.36</td>\n",
       "      <td>1.0</td>\n",
       "      <td>0.0</td>\n",
       "      <td>2.22</td>\n",
       "      <td>Luminal A</td>\n",
       "      <td>1.0</td>\n",
       "    </tr>\n",
       "    <tr>\n",
       "      <th>3</th>\n",
       "      <td>3</td>\n",
       "      <td>X126AS</td>\n",
       "      <td>0.0</td>\n",
       "      <td>8.23</td>\n",
       "      <td>0.0</td>\n",
       "      <td>0.0</td>\n",
       "      <td>8.23</td>\n",
       "      <td>No Subtype</td>\n",
       "      <td>2.0</td>\n",
       "    </tr>\n",
       "    <tr>\n",
       "      <th>4</th>\n",
       "      <td>4</td>\n",
       "      <td>X005JO</td>\n",
       "      <td>0.0</td>\n",
       "      <td>8.07</td>\n",
       "      <td>1.0</td>\n",
       "      <td>0.0</td>\n",
       "      <td>5.55</td>\n",
       "      <td>Luminal A</td>\n",
       "      <td>NaN</td>\n",
       "    </tr>\n",
       "    <tr>\n",
       "      <th>...</th>\n",
       "      <td>...</td>\n",
       "      <td>...</td>\n",
       "      <td>...</td>\n",
       "      <td>...</td>\n",
       "      <td>...</td>\n",
       "      <td>...</td>\n",
       "      <td>...</td>\n",
       "      <td>...</td>\n",
       "      <td>...</td>\n",
       "    </tr>\n",
       "    <tr>\n",
       "      <th>154</th>\n",
       "      <td>154</td>\n",
       "      <td>X304VE</td>\n",
       "      <td>1.0</td>\n",
       "      <td>0.67</td>\n",
       "      <td>0.0</td>\n",
       "      <td>0.0</td>\n",
       "      <td>6.02</td>\n",
       "      <td>Luminal A</td>\n",
       "      <td>3.0</td>\n",
       "    </tr>\n",
       "    <tr>\n",
       "      <th>155</th>\n",
       "      <td>155</td>\n",
       "      <td>X015HE</td>\n",
       "      <td>1.0</td>\n",
       "      <td>2.79</td>\n",
       "      <td>1.0</td>\n",
       "      <td>1.0</td>\n",
       "      <td>3.07</td>\n",
       "      <td>ERBB2</td>\n",
       "      <td>3.0</td>\n",
       "    </tr>\n",
       "    <tr>\n",
       "      <th>156</th>\n",
       "      <td>156</td>\n",
       "      <td>X327EN</td>\n",
       "      <td>1.0</td>\n",
       "      <td>1.38</td>\n",
       "      <td>1.0</td>\n",
       "      <td>1.0</td>\n",
       "      <td>4.87</td>\n",
       "      <td>Basal</td>\n",
       "      <td>3.0</td>\n",
       "    </tr>\n",
       "    <tr>\n",
       "      <th>157</th>\n",
       "      <td>157</td>\n",
       "      <td>X184LO</td>\n",
       "      <td>0.0</td>\n",
       "      <td>5.62</td>\n",
       "      <td>0.0</td>\n",
       "      <td>0.0</td>\n",
       "      <td>5.62</td>\n",
       "      <td>Luminal A</td>\n",
       "      <td>1.0</td>\n",
       "    </tr>\n",
       "    <tr>\n",
       "      <th>158</th>\n",
       "      <td>158</td>\n",
       "      <td>X072TE</td>\n",
       "      <td>0.0</td>\n",
       "      <td>5.58</td>\n",
       "      <td>1.0</td>\n",
       "      <td>0.0</td>\n",
       "      <td>0.70</td>\n",
       "      <td>No Subtype</td>\n",
       "      <td>2.0</td>\n",
       "    </tr>\n",
       "  </tbody>\n",
       "</table>\n",
       "<p>159 rows × 9 columns</p>\n",
       "</div>"
      ],
      "text/plain": [
       "     Unnamed: 0  ID_REF  RELAPSE  SURV_RELAPSE  DEATH  DEATH_BC  SURV_DEATH  \\\n",
       "0             0  X027JO      1.0          3.82    1.0       1.0        4.14   \n",
       "1             1  X350JO      0.0          8.15    0.0       0.0        8.15   \n",
       "2             2  X028JA      0.0          8.36    1.0       0.0        2.22   \n",
       "3             3  X126AS      0.0          8.23    0.0       0.0        8.23   \n",
       "4             4  X005JO      0.0          8.07    1.0       0.0        5.55   \n",
       "..          ...     ...      ...           ...    ...       ...         ...   \n",
       "154         154  X304VE      1.0          0.67    0.0       0.0        6.02   \n",
       "155         155  X015HE      1.0          2.79    1.0       1.0        3.07   \n",
       "156         156  X327EN      1.0          1.38    1.0       1.0        4.87   \n",
       "157         157  X184LO      0.0          5.62    0.0       0.0        5.62   \n",
       "158         158  X072TE      0.0          5.58    1.0       0.0        0.70   \n",
       "\n",
       "        SUBTYPE  ELSTON  \n",
       "0    No Subtype     2.0  \n",
       "1     Luminal B     3.0  \n",
       "2     Luminal A     1.0  \n",
       "3    No Subtype     2.0  \n",
       "4     Luminal A     NaN  \n",
       "..          ...     ...  \n",
       "154   Luminal A     3.0  \n",
       "155       ERBB2     3.0  \n",
       "156       Basal     3.0  \n",
       "157   Luminal A     1.0  \n",
       "158  No Subtype     2.0  \n",
       "\n",
       "[159 rows x 9 columns]"
      ]
     },
     "execution_count": 21,
     "metadata": {},
     "output_type": "execute_result"
    }
   ],
   "source": [
    "import numpy as np\n",
    "import matplotlib.pyplot as plt\n",
    "from scipy.cluster.hierarchy import dendrogram, linkage, cut_tree\n",
    "import pandas as pd\n",
    "\n",
    "df_stat = pd.read_csv(\"~/Documents/Studies/Modules/DatenanalyseLifeScience/Tasks/GeneClustering/resources/pawitan-death-stat.csv\")\n",
    "df_genes = pd.read_csv(\"~/Documents/Studies/Modules/DatenanalyseLifeScience/Tasks/GeneClustering/resources/pawitan-gene-expr.csv\")\n",
    "\n",
    "data = df_genes.iloc[:, 2:]\n",
    "df_stat"
   ]
  },
  {
   "cell_type": "code",
   "execution_count": 2,
   "metadata": {},
   "outputs": [
    {
     "data": {
      "image/png": "[encoded data removed]",
      "text/plain": [
       "<Figure size 640x480 with 1 Axes>"
      ]
     },
     "metadata": {},
     "output_type": "display_data"
    }
   ],
   "source": [
    "linkage_data = linkage(data.transpose(), method='ward', metric='euclidean')\n",
    "dendrogram(linkage_data)\n",
    "\n",
    "\n",
    "plt.show()"
   ]
  },
  {
   "cell_type": "code",
   "execution_count": 3,
   "metadata": {},
   "outputs": [
    {
     "data": {
      "image/png": "[encoded data removed]",
      "text/plain": [
       "<Figure size 640x480 with 1 Axes>"
      ]
     },
     "metadata": {},
     "output_type": "display_data"
    }
   ],
   "source": [
    "\n",
    "dendrogram(linkage_data)\n",
    "plt.axhline(50)\n",
    "plt.show()"
   ]
  },
  {
   "cell_type": "code",
   "execution_count": 4,
   "metadata": {},
   "outputs": [],
   "source": [
    "cutree = cut_tree(linkage_data, height=50)"
   ]
  },
  {
   "cell_type": "code",
   "execution_count": 56,
   "metadata": {},
   "outputs": [
    {
     "data": {
      "text/html": [
       "<div>\n",
       "<style scoped>\n",
       "    .dataframe tbody tr th:only-of-type {\n",
       "        vertical-align: middle;\n",
       "    }\n",
       "\n",
       "    .dataframe tbody tr th {\n",
       "        vertical-align: top;\n",
       "    }\n",
       "\n",
       "    .dataframe thead th {\n",
       "        text-align: right;\n",
       "    }\n",
       "</style>\n",
       "<table border=\"1\" class=\"dataframe\">\n",
       "  <thead>\n",
       "    <tr style=\"text-align: right;\">\n",
       "      <th></th>\n",
       "      <th>Unnamed: 0</th>\n",
       "      <th>RELAPSE</th>\n",
       "      <th>SURV_RELAPSE</th>\n",
       "      <th>DEATH</th>\n",
       "      <th>DEATH_BC</th>\n",
       "      <th>SURV_DEATH</th>\n",
       "      <th>ELSTON</th>\n",
       "    </tr>\n",
       "  </thead>\n",
       "  <tbody>\n",
       "    <tr>\n",
       "      <th>count</th>\n",
       "      <td>40.000000</td>\n",
       "      <td>40.000000</td>\n",
       "      <td>40.000000</td>\n",
       "      <td>40.000000</td>\n",
       "      <td>40.000000</td>\n",
       "      <td>40.000000</td>\n",
       "      <td>36.000000</td>\n",
       "    </tr>\n",
       "    <tr>\n",
       "      <th>mean</th>\n",
       "      <td>81.300000</td>\n",
       "      <td>0.300000</td>\n",
       "      <td>6.149000</td>\n",
       "      <td>0.300000</td>\n",
       "      <td>0.250000</td>\n",
       "      <td>6.422500</td>\n",
       "      <td>2.222222</td>\n",
       "    </tr>\n",
       "    <tr>\n",
       "      <th>std</th>\n",
       "      <td>48.884584</td>\n",
       "      <td>0.464095</td>\n",
       "      <td>2.382895</td>\n",
       "      <td>0.464095</td>\n",
       "      <td>0.438529</td>\n",
       "      <td>1.925935</td>\n",
       "      <td>0.760117</td>\n",
       "    </tr>\n",
       "    <tr>\n",
       "      <th>min</th>\n",
       "      <td>0.000000</td>\n",
       "      <td>0.000000</td>\n",
       "      <td>0.230000</td>\n",
       "      <td>0.000000</td>\n",
       "      <td>0.000000</td>\n",
       "      <td>1.210000</td>\n",
       "      <td>1.000000</td>\n",
       "    </tr>\n",
       "    <tr>\n",
       "      <th>25%</th>\n",
       "      <td>43.250000</td>\n",
       "      <td>0.000000</td>\n",
       "      <td>4.405000</td>\n",
       "      <td>0.000000</td>\n",
       "      <td>0.000000</td>\n",
       "      <td>5.605000</td>\n",
       "      <td>2.000000</td>\n",
       "    </tr>\n",
       "    <tr>\n",
       "      <th>50%</th>\n",
       "      <td>91.500000</td>\n",
       "      <td>0.000000</td>\n",
       "      <td>7.275000</td>\n",
       "      <td>0.000000</td>\n",
       "      <td>0.000000</td>\n",
       "      <td>7.120000</td>\n",
       "      <td>2.000000</td>\n",
       "    </tr>\n",
       "    <tr>\n",
       "      <th>75%</th>\n",
       "      <td>122.000000</td>\n",
       "      <td>1.000000</td>\n",
       "      <td>8.030000</td>\n",
       "      <td>1.000000</td>\n",
       "      <td>0.250000</td>\n",
       "      <td>7.852500</td>\n",
       "      <td>3.000000</td>\n",
       "    </tr>\n",
       "    <tr>\n",
       "      <th>max</th>\n",
       "      <td>157.000000</td>\n",
       "      <td>1.000000</td>\n",
       "      <td>8.490000</td>\n",
       "      <td>1.000000</td>\n",
       "      <td>1.000000</td>\n",
       "      <td>8.490000</td>\n",
       "      <td>3.000000</td>\n",
       "    </tr>\n",
       "  </tbody>\n",
       "</table>\n",
       "</div>"
      ],
      "text/plain": [
       "       Unnamed: 0    RELAPSE  SURV_RELAPSE      DEATH   DEATH_BC  SURV_DEATH  \\\n",
       "count   40.000000  40.000000     40.000000  40.000000  40.000000   40.000000   \n",
       "mean    81.300000   0.300000      6.149000   0.300000   0.250000    6.422500   \n",
       "std     48.884584   0.464095      2.382895   0.464095   0.438529    1.925935   \n",
       "min      0.000000   0.000000      0.230000   0.000000   0.000000    1.210000   \n",
       "25%     43.250000   0.000000      4.405000   0.000000   0.000000    5.605000   \n",
       "50%     91.500000   0.000000      7.275000   0.000000   0.000000    7.120000   \n",
       "75%    122.000000   1.000000      8.030000   1.000000   0.250000    7.852500   \n",
       "max    157.000000   1.000000      8.490000   1.000000   1.000000    8.490000   \n",
       "\n",
       "          ELSTON  \n",
       "count  36.000000  \n",
       "mean    2.222222  \n",
       "std     0.760117  \n",
       "min     1.000000  \n",
       "25%     2.000000  \n",
       "50%     2.000000  \n",
       "75%     3.000000  \n",
       "max     3.000000  "
      ]
     },
     "execution_count": 56,
     "metadata": {},
     "output_type": "execute_result"
    }
   ],
   "source": [
    "# Count alive/death patients\n",
    "from scipy.cluster.hierarchy import leaves_list\n",
    "\n",
    "leave_list = leaves_list(linkage_data)\n",
    "\n",
    "masks = [(cutree == i).flatten() for i in range(3)]\n",
    "\n",
    "class_x_df = []\n",
    "\n",
    "\n",
    "for i in range(3):\n",
    "    class_0 = leave_list[masks[i]]\n",
    "\n",
    "    index_list = np.asarray(data.transpose().index)\n",
    "\n",
    "    class_0_index = index_list[class_0]\n",
    "\n",
    "    cass_0_df = df_stat.iloc[list(df_stat[\"ID_REF\"].isin(list(class_0_index)))]\n",
    "    cass_0_df.describe()\n",
    "    class_x_df.append(cass_0_df)\n",
    "\n",
    "class_x_df[0].describe()"
   ]
  },
  {
   "cell_type": "code",
   "execution_count": 78,
   "metadata": {},
   "outputs": [
    {
     "data": {
      "text/plain": [
       "(0.0, 50.0)"
      ]
     },
     "execution_count": 78,
     "metadata": {},
     "output_type": "execute_result"
    },
    {
     "data": {
      "image/png": "[encoded data removed]",
      "text/plain": [
       "<Figure size 2000x500 with 3 Axes>"
      ]
     },
     "metadata": {},
     "output_type": "display_data"
    }
   ],
   "source": [
    "fig, (ax1, ax2, ax3) = plt.subplots(1, 3, figsize=(20, 5))\n",
    "fig.suptitle('Surv. Distirbution of each hierarchical cluster')\n",
    "\n",
    "# Plot death/alive distributions class 0\n",
    "df_temp = class_x_df[0]\n",
    "alive = (df_temp['DEATH'] == False).sum()\n",
    "death_bc = (df_temp['DEATH_BC'] == True).sum()\n",
    "death_other = (df_temp['DEATH'] -  df_temp['DEATH_BC']).sum()\n",
    "\n",
    "ax1.bar(x=['Death other reason', 'Breast-Cancer Death', 'Alive'], height=[death_other, death_bc, alive])\n",
    "ax1.set_ylim(0, 50)\n",
    "\n",
    "# Plot death/alive distributions class 1\n",
    "df_temp = class_x_df[1]\n",
    "alive = (df_temp['DEATH'] == False).sum()\n",
    "death_bc = (df_temp['DEATH_BC'] == True).sum()\n",
    "death_other = (df_temp['DEATH'] -  df_temp['DEATH_BC']).sum()\n",
    "\n",
    "ax2.bar(x=['Death other reason', 'Breast-Cancer Death', 'Alive'], height=[death_other, death_bc, alive])\n",
    "ax2.set_ylim(0, 50)\n",
    "\n",
    "# Plot death/alive distributions class 2\n",
    "df_temp = class_x_df[2]\n",
    "alive = (df_temp['DEATH'] == False).sum()\n",
    "death_bc = (df_temp['DEATH_BC'] == True).sum()\n",
    "death_other = (df_temp['DEATH'] -  df_temp['DEATH_BC']).sum()\n",
    "\n",
    "ax3.bar(x=['Death other reason', 'Breast-Cancer Death', 'Alive'], height=[death_other, death_bc, alive])\n",
    "ax3.set_ylim(0, 50)"
   ]
  },
  {
   "cell_type": "code",
   "execution_count": 64,
   "metadata": {},
   "outputs": [
    {
     "data": {
      "text/plain": [
       "0.21212121212121213"
      ]
     },
     "execution_count": 64,
     "metadata": {},
     "output_type": "execute_result"
    }
   ],
   "source": [
    "df = class_x_df[2].describe()\n",
    "death_mean = df.loc['mean', 'DEATH']\n",
    "death_mean"
   ]
  },
  {
   "cell_type": "code",
   "execution_count": 79,
   "metadata": {},
   "outputs": [
    {
     "data": {
      "text/plain": [
       "Text(0.5, 1.0, 'CLuster Sizes')"
      ]
     },
     "execution_count": 79,
     "metadata": {},
     "output_type": "execute_result"
    },
    {
     "data": {
      "image/png": "[encoded data removed]",
      "text/plain": [
       "<Figure size 640x480 with 1 Axes>"
      ]
     },
     "metadata": {},
     "output_type": "display_data"
    }
   ],
   "source": [
    "plt.hist(cutree)\n",
    "plt.xticks([0,1,2])\n",
    "plt.title('CLuster Sizes')"
   ]
  },
  {
   "cell_type": "code",
   "execution_count": 60,
   "metadata": {},
   "outputs": [
    {
     "data": {
      "text/html": [
       "<div>\n",
       "<style scoped>\n",
       "    .dataframe tbody tr th:only-of-type {\n",
       "        vertical-align: middle;\n",
       "    }\n",
       "\n",
       "    .dataframe tbody tr th {\n",
       "        vertical-align: top;\n",
       "    }\n",
       "\n",
       "    .dataframe thead th {\n",
       "        text-align: right;\n",
       "    }\n",
       "</style>\n",
       "<table border=\"1\" class=\"dataframe\">\n",
       "  <thead>\n",
       "    <tr style=\"text-align: right;\">\n",
       "      <th></th>\n",
       "      <th>Unnamed: 0</th>\n",
       "      <th>ID_REF</th>\n",
       "      <th>RELAPSE</th>\n",
       "      <th>SURV_RELAPSE</th>\n",
       "      <th>DEATH</th>\n",
       "      <th>DEATH_BC</th>\n",
       "      <th>SURV_DEATH</th>\n",
       "      <th>SUBTYPE</th>\n",
       "      <th>ELSTON</th>\n",
       "    </tr>\n",
       "  </thead>\n",
       "  <tbody>\n",
       "    <tr>\n",
       "      <th>0</th>\n",
       "      <td>0</td>\n",
       "      <td>X027JO</td>\n",
       "      <td>1.0</td>\n",
       "      <td>3.82</td>\n",
       "      <td>1.0</td>\n",
       "      <td>1.0</td>\n",
       "      <td>4.14</td>\n",
       "      <td>No Subtype</td>\n",
       "      <td>2.0</td>\n",
       "    </tr>\n",
       "    <tr>\n",
       "      <th>1</th>\n",
       "      <td>1</td>\n",
       "      <td>X350JO</td>\n",
       "      <td>0.0</td>\n",
       "      <td>8.15</td>\n",
       "      <td>0.0</td>\n",
       "      <td>0.0</td>\n",
       "      <td>8.15</td>\n",
       "      <td>Luminal B</td>\n",
       "      <td>3.0</td>\n",
       "    </tr>\n",
       "    <tr>\n",
       "      <th>2</th>\n",
       "      <td>2</td>\n",
       "      <td>X028JA</td>\n",
       "      <td>0.0</td>\n",
       "      <td>8.36</td>\n",
       "      <td>1.0</td>\n",
       "      <td>0.0</td>\n",
       "      <td>2.22</td>\n",
       "      <td>Luminal A</td>\n",
       "      <td>1.0</td>\n",
       "    </tr>\n",
       "    <tr>\n",
       "      <th>3</th>\n",
       "      <td>3</td>\n",
       "      <td>X126AS</td>\n",
       "      <td>0.0</td>\n",
       "      <td>8.23</td>\n",
       "      <td>0.0</td>\n",
       "      <td>0.0</td>\n",
       "      <td>8.23</td>\n",
       "      <td>No Subtype</td>\n",
       "      <td>2.0</td>\n",
       "    </tr>\n",
       "    <tr>\n",
       "      <th>4</th>\n",
       "      <td>4</td>\n",
       "      <td>X005JO</td>\n",
       "      <td>0.0</td>\n",
       "      <td>8.07</td>\n",
       "      <td>1.0</td>\n",
       "      <td>0.0</td>\n",
       "      <td>5.55</td>\n",
       "      <td>Luminal A</td>\n",
       "      <td>NaN</td>\n",
       "    </tr>\n",
       "  </tbody>\n",
       "</table>\n",
       "</div>"
      ],
      "text/plain": [
       "   Unnamed: 0  ID_REF  RELAPSE  SURV_RELAPSE  DEATH  DEATH_BC  SURV_DEATH  \\\n",
       "0           0  X027JO      1.0          3.82    1.0       1.0        4.14   \n",
       "1           1  X350JO      0.0          8.15    0.0       0.0        8.15   \n",
       "2           2  X028JA      0.0          8.36    1.0       0.0        2.22   \n",
       "3           3  X126AS      0.0          8.23    0.0       0.0        8.23   \n",
       "4           4  X005JO      0.0          8.07    1.0       0.0        5.55   \n",
       "\n",
       "      SUBTYPE  ELSTON  \n",
       "0  No Subtype     2.0  \n",
       "1   Luminal B     3.0  \n",
       "2   Luminal A     1.0  \n",
       "3  No Subtype     2.0  \n",
       "4   Luminal A     NaN  "
      ]
     },
     "execution_count": 60,
     "metadata": {},
     "output_type": "execute_result"
    }
   ],
   "source": [
    "df_stat.head()"
   ]
  },
  {
   "cell_type": "code",
   "execution_count": 81,
   "metadata": {},
   "outputs": [
    {
     "data": {
      "text/plain": [
       "Text(0.5, 1.0, 'Real Surv. Distribution')"
      ]
     },
     "execution_count": 81,
     "metadata": {},
     "output_type": "execute_result"
    },
    {
     "data": {
      "image/png": "[encoded data removed]",
      "text/plain": [
       "<Figure size 640x480 with 1 Axes>"
      ]
     },
     "metadata": {},
     "output_type": "display_data"
    }
   ],
   "source": [
    "alive = (df_stat['DEATH'] == False).sum()\n",
    "death_bc = (df_stat['DEATH_BC'] == True).sum()\n",
    "death_other = (df_stat['DEATH'] -  df_stat['DEATH_BC']).sum()\n",
    "\n",
    "plt.bar(x=['Death other reason', 'Breast-Cancer Death', 'Alive'], height=[death_other, death_bc, alive])\n",
    "plt.title('Real Surv. Distribution')"
   ]
  },
  {
   "cell_type": "code",
   "execution_count": null,
   "metadata": {},
   "outputs": [],
   "source": []
  },
  {
   "cell_type": "code",
   "execution_count": null,
   "metadata": {},
   "outputs": [],
   "source": []
  }
 ],
 "metadata": {
  "kernelspec": {
   "display_name": "venv",
   "language": "python",
   "name": "python3"
  },
  "language_info": {
   "codemirror_mode": {
    "name": "ipython",
    "version": 3
   },
   "file_extension": ".py",
   "mimetype": "text/x-python",
   "name": "python",
   "nbconvert_exporter": "python",
   "pygments_lexer": "ipython3",
   "version": "3.10.6"
  },
  "orig_nbformat": 4,
  "vscode": {
   "interpreter": {
    "hash": "04eda2a5484b508f0a61b02bdbecbc6695337829c1d0d61e91554477ba57dbe7"
   }
  }
 },
 "nbformat": 4,
 "nbformat_minor": 2
}
